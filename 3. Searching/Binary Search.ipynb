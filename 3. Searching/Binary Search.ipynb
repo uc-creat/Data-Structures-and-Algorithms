{
 "cells": [
  {
   "cell_type": "markdown",
   "id": "trying-adelaide",
   "metadata": {},
   "source": [
    "#### It is very important to note that, in case of Binary Search, the array/list must be Sorted"
   ]
  },
  {
   "cell_type": "code",
   "execution_count": 2,
   "id": "minus-vermont",
   "metadata": {},
   "outputs": [
    {
     "name": "stdout",
     "output_type": "stream",
     "text": [
      "[10, 20, 30, 50, 60, 80, 100, 110, 130, 170]\n"
     ]
    }
   ],
   "source": [
    "array = [10, 20, 80, 30, 60, 50, 110, 100, 130, 170] # Given array\n",
    "sorted_array = sorted(array)  # Sorting the given list/array\n",
    "x = 110 # This is the element to be searched\n",
    "print(sorted_array)"
   ]
  },
  {
   "cell_type": "markdown",
   "id": "limiting-monkey",
   "metadata": {},
   "source": [
    "Here we create a function called Binary_Search, which takes 2 parameters i.e. the array and the element to be searched.\n",
    "The concept is simple, first assign the first and last position of the array with some kind of variable. Let them be as left and right. left is at the first position while right is at the last position of the array.\n",
    "Iterate until, left is smaller or equal to the right. If left is greater than right, then we can say that the element is not found.\n",
    "If the condition left <= right is satisfied, till then, we calculate the value of mid.\n",
    "Then we iteratively search, for the element. If the element is found in the mid of the array, it is returned, else the mid value is changed.\n",
    "So, if the element is greater than the mid value, then we simply shift the left position to one step ahead of mid, and if the element is smaller than the mid value, then we shift the right position to one step behind the mid. So, instead of comparing every element like in Linear Search, we only compare the mid value of a sub-array."
   ]
  },
  {
   "cell_type": "code",
   "execution_count": 3,
   "id": "congressional-force",
   "metadata": {},
   "outputs": [
    {
     "name": "stdout",
     "output_type": "stream",
     "text": [
      "7\n"
     ]
    }
   ],
   "source": [
    "# Iterative approach:\n",
    "def Binary_Search(arr, element):\n",
    "    n = len(arr)\n",
    "    left = 0\n",
    "    right = n - 1\n",
    "    \n",
    "    \n",
    "    while left <= right:\n",
    "        \n",
    "        mid = (left+(right-1))//2\n",
    "        \n",
    "        if arr[mid] == element:\n",
    "            return mid\n",
    "        \n",
    "        elif arr[mid] < element:\n",
    "            left = mid + 1\n",
    "            \n",
    "        else:\n",
    "            right = mid - 1\n",
    "                \n",
    "                \n",
    "print(Binary_Search(sorted_array, x))"
   ]
  },
  {
   "cell_type": "code",
   "execution_count": 4,
   "id": "experimental-passage",
   "metadata": {},
   "outputs": [
    {
     "name": "stdout",
     "output_type": "stream",
     "text": [
      "7\n"
     ]
    }
   ],
   "source": [
    "# Recursive Approach:\n",
    "def B_Search(arr, element, left, right):    \n",
    "    while right>=left:\n",
    "        mid = (left + (right-1))//2\n",
    "        \n",
    "        if arr[mid] == element:\n",
    "            return mid\n",
    "        elif arr[mid] < element:\n",
    "            return B_Search(arr, element, mid + 1, right)\n",
    "        else:\n",
    "            return B_Search(arr, element, left, mid - 1)\n",
    "    \n",
    "print(B_Search(sorted_array, x, 0, len(array) - 1))\n",
    "    "
   ]
  },
  {
   "cell_type": "markdown",
   "id": "yellow-laptop",
   "metadata": {},
   "source": [
    "### Time Complexity:"
   ]
  },
  {
   "cell_type": "markdown",
   "id": "fifth-pregnancy",
   "metadata": {},
   "source": [
    "As, we are dividing the array into half, therefore, the time complexity is of the order **O(logn)** for the **worst case**, while for the **best case** it will be of the order **O(1)**."
   ]
  },
  {
   "cell_type": "code",
   "execution_count": null,
   "id": "dated-karma",
   "metadata": {},
   "outputs": [],
   "source": []
  }
 ],
 "metadata": {
  "kernelspec": {
   "display_name": "Python 3",
   "language": "python",
   "name": "python3"
  }
 },
 "nbformat": 4,
 "nbformat_minor": 5
}
